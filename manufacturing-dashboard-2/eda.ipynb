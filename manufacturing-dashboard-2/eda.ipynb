{
 "cells": [
  {
   "cell_type": "code",
   "execution_count": 1,
   "id": "3dd688d9",
   "metadata": {},
   "outputs": [],
   "source": [
    "import pandas as pd\n",
    "import matplotlib.pyplot as plt\n",
    "from datetime import datetime"
   ]
  },
  {
   "cell_type": "code",
   "execution_count": 3,
   "id": "38bcb6df",
   "metadata": {},
   "outputs": [],
   "source": [
    "df = pd.read_csv(r\"dataset\\manufacturing_dataset.csv\")"
   ]
  },
  {
   "cell_type": "code",
   "execution_count": 4,
   "id": "65532b18",
   "metadata": {},
   "outputs": [
    {
     "data": {
      "application/vnd.microsoft.datawrangler.viewer.v0+json": {
       "columns": [
        {
         "name": "index",
         "rawType": "int64",
         "type": "integer"
        },
        {
         "name": "time_stamp",
         "rawType": "object",
         "type": "string"
        },
        {
         "name": "machine_ID",
         "rawType": "int64",
         "type": "integer"
        },
        {
         "name": "operation_mode",
         "rawType": "object",
         "type": "string"
        },
        {
         "name": "temperature",
         "rawType": "float64",
         "type": "float"
        },
        {
         "name": "vibration",
         "rawType": "float64",
         "type": "float"
        },
        {
         "name": "power_consumption",
         "rawType": "float64",
         "type": "float"
        },
        {
         "name": "network_latency",
         "rawType": "float64",
         "type": "float"
        },
        {
         "name": "packet_loss",
         "rawType": "float64",
         "type": "float"
        },
        {
         "name": "defect_rate",
         "rawType": "float64",
         "type": "float"
        },
        {
         "name": "speed",
         "rawType": "float64",
         "type": "float"
        },
        {
         "name": "pm_score",
         "rawType": "float64",
         "type": "float"
        },
        {
         "name": "error_rate",
         "rawType": "float64",
         "type": "float"
        },
        {
         "name": "efficiency_status",
         "rawType": "object",
         "type": "string"
        }
       ],
       "conversionMethod": "pd.DataFrame",
       "ref": "070b9f9c-6212-4e85-98e0-f7360c8f20d8",
       "rows": [
        [
         "0",
         "1/1/2024 0:00",
         "39",
         "Idle",
         "74.13758999",
         "3.500595251",
         "8.612162287",
         "10.65054181",
         "0.207764259",
         "7.751260669",
         "477.6573907",
         "0.344650286",
         "14.96546994",
         "Low"
        ],
        [
         "1",
         "1/1/2024 0:01",
         "29",
         "Active",
         "84.26455839",
         "3.3559278",
         "2.268558728",
         "29.11181022",
         "2.228463585",
         "4.989172454",
         "398.174747",
         "0.769848438",
         "7.678270239",
         "Low"
        ],
        [
         "2",
         "1/1/2024 0:02",
         "15",
         "Active",
         "44.28010157",
         "2.079766094",
         "6.144105398",
         "18.35729223",
         "1.639416215",
         "0.456816405",
         "108.0749587",
         "0.987086311",
         "8.198391135",
         "Low"
        ],
        [
         "3",
         "1/1/2024 0:03",
         "43",
         "Active",
         "40.56850198",
         "0.298237762",
         "4.067825373",
         "29.15362894",
         "1.161020637",
         "4.582973518",
         "329.5794096",
         "0.983390224",
         "2.740847087",
         "Medium"
        ],
        [
         "4",
         "1/1/2024 0:04",
         "8",
         "Idle",
         "75.06381737",
         "0.345810107",
         "6.225737024",
         "34.02919052",
         "4.796519647",
         "2.287716177",
         "159.113525",
         "0.573116966",
         "12.10068627",
         "Low"
        ]
       ],
       "shape": {
        "columns": 13,
        "rows": 5
       }
      },
      "text/html": [
       "<div>\n",
       "<style scoped>\n",
       "    .dataframe tbody tr th:only-of-type {\n",
       "        vertical-align: middle;\n",
       "    }\n",
       "\n",
       "    .dataframe tbody tr th {\n",
       "        vertical-align: top;\n",
       "    }\n",
       "\n",
       "    .dataframe thead th {\n",
       "        text-align: right;\n",
       "    }\n",
       "</style>\n",
       "<table border=\"1\" class=\"dataframe\">\n",
       "  <thead>\n",
       "    <tr style=\"text-align: right;\">\n",
       "      <th></th>\n",
       "      <th>time_stamp</th>\n",
       "      <th>machine_ID</th>\n",
       "      <th>operation_mode</th>\n",
       "      <th>temperature</th>\n",
       "      <th>vibration</th>\n",
       "      <th>power_consumption</th>\n",
       "      <th>network_latency</th>\n",
       "      <th>packet_loss</th>\n",
       "      <th>defect_rate</th>\n",
       "      <th>speed</th>\n",
       "      <th>pm_score</th>\n",
       "      <th>error_rate</th>\n",
       "      <th>efficiency_status</th>\n",
       "    </tr>\n",
       "  </thead>\n",
       "  <tbody>\n",
       "    <tr>\n",
       "      <th>0</th>\n",
       "      <td>1/1/2024 0:00</td>\n",
       "      <td>39</td>\n",
       "      <td>Idle</td>\n",
       "      <td>74.137590</td>\n",
       "      <td>3.500595</td>\n",
       "      <td>8.612162</td>\n",
       "      <td>10.650542</td>\n",
       "      <td>0.207764</td>\n",
       "      <td>7.751261</td>\n",
       "      <td>477.657391</td>\n",
       "      <td>0.344650</td>\n",
       "      <td>14.965470</td>\n",
       "      <td>Low</td>\n",
       "    </tr>\n",
       "    <tr>\n",
       "      <th>1</th>\n",
       "      <td>1/1/2024 0:01</td>\n",
       "      <td>29</td>\n",
       "      <td>Active</td>\n",
       "      <td>84.264558</td>\n",
       "      <td>3.355928</td>\n",
       "      <td>2.268559</td>\n",
       "      <td>29.111810</td>\n",
       "      <td>2.228464</td>\n",
       "      <td>4.989172</td>\n",
       "      <td>398.174747</td>\n",
       "      <td>0.769848</td>\n",
       "      <td>7.678270</td>\n",
       "      <td>Low</td>\n",
       "    </tr>\n",
       "    <tr>\n",
       "      <th>2</th>\n",
       "      <td>1/1/2024 0:02</td>\n",
       "      <td>15</td>\n",
       "      <td>Active</td>\n",
       "      <td>44.280102</td>\n",
       "      <td>2.079766</td>\n",
       "      <td>6.144105</td>\n",
       "      <td>18.357292</td>\n",
       "      <td>1.639416</td>\n",
       "      <td>0.456816</td>\n",
       "      <td>108.074959</td>\n",
       "      <td>0.987086</td>\n",
       "      <td>8.198391</td>\n",
       "      <td>Low</td>\n",
       "    </tr>\n",
       "    <tr>\n",
       "      <th>3</th>\n",
       "      <td>1/1/2024 0:03</td>\n",
       "      <td>43</td>\n",
       "      <td>Active</td>\n",
       "      <td>40.568502</td>\n",
       "      <td>0.298238</td>\n",
       "      <td>4.067825</td>\n",
       "      <td>29.153629</td>\n",
       "      <td>1.161021</td>\n",
       "      <td>4.582974</td>\n",
       "      <td>329.579410</td>\n",
       "      <td>0.983390</td>\n",
       "      <td>2.740847</td>\n",
       "      <td>Medium</td>\n",
       "    </tr>\n",
       "    <tr>\n",
       "      <th>4</th>\n",
       "      <td>1/1/2024 0:04</td>\n",
       "      <td>8</td>\n",
       "      <td>Idle</td>\n",
       "      <td>75.063817</td>\n",
       "      <td>0.345810</td>\n",
       "      <td>6.225737</td>\n",
       "      <td>34.029191</td>\n",
       "      <td>4.796520</td>\n",
       "      <td>2.287716</td>\n",
       "      <td>159.113525</td>\n",
       "      <td>0.573117</td>\n",
       "      <td>12.100686</td>\n",
       "      <td>Low</td>\n",
       "    </tr>\n",
       "  </tbody>\n",
       "</table>\n",
       "</div>"
      ],
      "text/plain": [
       "      time_stamp  machine_ID operation_mode  temperature  vibration  \\\n",
       "0  1/1/2024 0:00          39           Idle    74.137590   3.500595   \n",
       "1  1/1/2024 0:01          29         Active    84.264558   3.355928   \n",
       "2  1/1/2024 0:02          15         Active    44.280102   2.079766   \n",
       "3  1/1/2024 0:03          43         Active    40.568502   0.298238   \n",
       "4  1/1/2024 0:04           8           Idle    75.063817   0.345810   \n",
       "\n",
       "   power_consumption  network_latency  packet_loss  defect_rate       speed  \\\n",
       "0           8.612162        10.650542     0.207764     7.751261  477.657391   \n",
       "1           2.268559        29.111810     2.228464     4.989172  398.174747   \n",
       "2           6.144105        18.357292     1.639416     0.456816  108.074959   \n",
       "3           4.067825        29.153629     1.161021     4.582974  329.579410   \n",
       "4           6.225737        34.029191     4.796520     2.287716  159.113525   \n",
       "\n",
       "   pm_score  error_rate efficiency_status  \n",
       "0  0.344650   14.965470               Low  \n",
       "1  0.769848    7.678270               Low  \n",
       "2  0.987086    8.198391               Low  \n",
       "3  0.983390    2.740847            Medium  \n",
       "4  0.573117   12.100686               Low  "
      ]
     },
     "execution_count": 4,
     "metadata": {},
     "output_type": "execute_result"
    }
   ],
   "source": [
    "df.head(5)"
   ]
  },
  {
   "cell_type": "code",
   "execution_count": 8,
   "id": "d764a2a6",
   "metadata": {},
   "outputs": [
    {
     "data": {
      "text/plain": [
       "array([39, 29, 15, 43,  8, 21, 19, 23, 11, 24, 36, 40,  3, 22,  2, 44, 30,\n",
       "       38, 33, 12, 25, 49, 27, 42, 28, 16, 47, 37,  7,  9, 18,  4, 14, 50,\n",
       "       26, 20, 35, 17,  6, 34, 10, 31, 48, 45, 41,  1,  5, 13, 32, 46])"
      ]
     },
     "execution_count": 8,
     "metadata": {},
     "output_type": "execute_result"
    }
   ],
   "source": [
    "df['machine_ID'].unique()"
   ]
  },
  {
   "cell_type": "code",
   "execution_count": 7,
   "id": "77e08524",
   "metadata": {},
   "outputs": [
    {
     "data": {
      "application/vnd.microsoft.datawrangler.viewer.v0+json": {
       "columns": [
        {
         "name": "index",
         "rawType": "int64",
         "type": "integer"
        },
        {
         "name": "time_stamp",
         "rawType": "object",
         "type": "string"
        },
        {
         "name": "operation_mode",
         "rawType": "object",
         "type": "string"
        },
        {
         "name": "count",
         "rawType": "int64",
         "type": "integer"
        }
       ],
       "conversionMethod": "pd.DataFrame",
       "ref": "102ee129-ba50-4ab1-a058-fb5a82b1233b",
       "rows": [
        [
         "0",
         "3/9/2024 9:43",
         "Active",
         "1"
        ],
        [
         "1",
         "3/9/2024 9:42",
         "Idle",
         "1"
        ],
        [
         "2",
         "3/9/2024 9:41",
         "Active",
         "1"
        ],
        [
         "3",
         "3/9/2024 9:40",
         "Active",
         "1"
        ],
        [
         "4",
         "3/9/2024 9:39",
         "Active",
         "1"
        ],
        [
         "5",
         "3/9/2024 9:38",
         "Active",
         "1"
        ],
        [
         "6",
         "3/9/2024 9:37",
         "Active",
         "1"
        ],
        [
         "7",
         "3/9/2024 9:36",
         "Active",
         "1"
        ],
        [
         "8",
         "3/9/2024 9:35",
         "Active",
         "1"
        ],
        [
         "9",
         "3/9/2024 9:34",
         "Active",
         "1"
        ],
        [
         "10",
         "3/9/2024 9:33",
         "Active",
         "1"
        ],
        [
         "11",
         "3/9/2024 9:32",
         "Maintenance",
         "1"
        ],
        [
         "12",
         "3/9/2024 9:31",
         "Active",
         "1"
        ],
        [
         "13",
         "3/9/2024 9:30",
         "Idle",
         "1"
        ],
        [
         "14",
         "3/9/2024 9:29",
         "Active",
         "1"
        ],
        [
         "15",
         "3/9/2024 9:28",
         "Active",
         "1"
        ],
        [
         "16",
         "1/1/2024 0:31",
         "Active",
         "1"
        ],
        [
         "17",
         "1/1/2024 0:30",
         "Maintenance",
         "1"
        ],
        [
         "18",
         "1/1/2024 0:29",
         "Active",
         "1"
        ],
        [
         "19",
         "1/1/2024 0:28",
         "Active",
         "1"
        ],
        [
         "20",
         "1/1/2024 0:27",
         "Active",
         "1"
        ],
        [
         "21",
         "1/1/2024 0:26",
         "Idle",
         "1"
        ],
        [
         "22",
         "1/1/2024 0:25",
         "Idle",
         "1"
        ],
        [
         "23",
         "1/1/2024 0:24",
         "Active",
         "1"
        ],
        [
         "24",
         "1/1/2024 0:23",
         "Idle",
         "1"
        ],
        [
         "25",
         "1/1/2024 0:22",
         "Active",
         "1"
        ],
        [
         "26",
         "1/1/2024 0:21",
         "Active",
         "1"
        ],
        [
         "27",
         "1/1/2024 0:20",
         "Active",
         "1"
        ],
        [
         "28",
         "1/1/2024 0:19",
         "Active",
         "1"
        ],
        [
         "29",
         "1/1/2024 0:18",
         "Active",
         "1"
        ],
        [
         "30",
         "1/1/2024 0:17",
         "Active",
         "1"
        ],
        [
         "31",
         "1/1/2024 0:16",
         "Active",
         "1"
        ],
        [
         "32",
         "1/1/2024 0:47",
         "Maintenance",
         "1"
        ],
        [
         "33",
         "1/1/2024 0:46",
         "Active",
         "1"
        ],
        [
         "34",
         "1/1/2024 0:45",
         "Active",
         "1"
        ],
        [
         "35",
         "1/1/2024 0:44",
         "Active",
         "1"
        ],
        [
         "36",
         "1/1/2024 0:43",
         "Active",
         "1"
        ],
        [
         "37",
         "1/1/2024 0:42",
         "Active",
         "1"
        ],
        [
         "38",
         "1/1/2024 0:41",
         "Idle",
         "1"
        ],
        [
         "39",
         "1/1/2024 0:40",
         "Active",
         "1"
        ],
        [
         "40",
         "1/1/2024 0:39",
         "Active",
         "1"
        ],
        [
         "41",
         "1/1/2024 0:38",
         "Idle",
         "1"
        ],
        [
         "42",
         "1/1/2024 0:37",
         "Active",
         "1"
        ],
        [
         "43",
         "1/1/2024 0:36",
         "Active",
         "1"
        ],
        [
         "44",
         "1/1/2024 0:35",
         "Active",
         "1"
        ],
        [
         "45",
         "1/1/2024 0:34",
         "Idle",
         "1"
        ],
        [
         "46",
         "1/1/2024 0:33",
         "Active",
         "1"
        ],
        [
         "47",
         "1/1/2024 0:32",
         "Active",
         "1"
        ],
        [
         "48",
         "1/1/2024 10:03",
         "Active",
         "1"
        ],
        [
         "49",
         "1/1/2024 10:02",
         "Active",
         "1"
        ]
       ],
       "shape": {
        "columns": 3,
        "rows": 100000
       }
      },
      "text/html": [
       "<div>\n",
       "<style scoped>\n",
       "    .dataframe tbody tr th:only-of-type {\n",
       "        vertical-align: middle;\n",
       "    }\n",
       "\n",
       "    .dataframe tbody tr th {\n",
       "        vertical-align: top;\n",
       "    }\n",
       "\n",
       "    .dataframe thead th {\n",
       "        text-align: right;\n",
       "    }\n",
       "</style>\n",
       "<table border=\"1\" class=\"dataframe\">\n",
       "  <thead>\n",
       "    <tr style=\"text-align: right;\">\n",
       "      <th></th>\n",
       "      <th>time_stamp</th>\n",
       "      <th>operation_mode</th>\n",
       "      <th>count</th>\n",
       "    </tr>\n",
       "  </thead>\n",
       "  <tbody>\n",
       "    <tr>\n",
       "      <th>0</th>\n",
       "      <td>3/9/2024 9:43</td>\n",
       "      <td>Active</td>\n",
       "      <td>1</td>\n",
       "    </tr>\n",
       "    <tr>\n",
       "      <th>1</th>\n",
       "      <td>3/9/2024 9:42</td>\n",
       "      <td>Idle</td>\n",
       "      <td>1</td>\n",
       "    </tr>\n",
       "    <tr>\n",
       "      <th>2</th>\n",
       "      <td>3/9/2024 9:41</td>\n",
       "      <td>Active</td>\n",
       "      <td>1</td>\n",
       "    </tr>\n",
       "    <tr>\n",
       "      <th>3</th>\n",
       "      <td>3/9/2024 9:40</td>\n",
       "      <td>Active</td>\n",
       "      <td>1</td>\n",
       "    </tr>\n",
       "    <tr>\n",
       "      <th>4</th>\n",
       "      <td>3/9/2024 9:39</td>\n",
       "      <td>Active</td>\n",
       "      <td>1</td>\n",
       "    </tr>\n",
       "    <tr>\n",
       "      <th>...</th>\n",
       "      <td>...</td>\n",
       "      <td>...</td>\n",
       "      <td>...</td>\n",
       "    </tr>\n",
       "    <tr>\n",
       "      <th>99995</th>\n",
       "      <td>1/1/2024 0:04</td>\n",
       "      <td>Idle</td>\n",
       "      <td>1</td>\n",
       "    </tr>\n",
       "    <tr>\n",
       "      <th>99996</th>\n",
       "      <td>1/1/2024 0:03</td>\n",
       "      <td>Active</td>\n",
       "      <td>1</td>\n",
       "    </tr>\n",
       "    <tr>\n",
       "      <th>99997</th>\n",
       "      <td>1/1/2024 0:02</td>\n",
       "      <td>Active</td>\n",
       "      <td>1</td>\n",
       "    </tr>\n",
       "    <tr>\n",
       "      <th>99998</th>\n",
       "      <td>1/1/2024 0:01</td>\n",
       "      <td>Active</td>\n",
       "      <td>1</td>\n",
       "    </tr>\n",
       "    <tr>\n",
       "      <th>99999</th>\n",
       "      <td>1/1/2024 0:00</td>\n",
       "      <td>Idle</td>\n",
       "      <td>1</td>\n",
       "    </tr>\n",
       "  </tbody>\n",
       "</table>\n",
       "<p>100000 rows × 3 columns</p>\n",
       "</div>"
      ],
      "text/plain": [
       "          time_stamp operation_mode  count\n",
       "0      3/9/2024 9:43         Active      1\n",
       "1      3/9/2024 9:42           Idle      1\n",
       "2      3/9/2024 9:41         Active      1\n",
       "3      3/9/2024 9:40         Active      1\n",
       "4      3/9/2024 9:39         Active      1\n",
       "...              ...            ...    ...\n",
       "99995  1/1/2024 0:04           Idle      1\n",
       "99996  1/1/2024 0:03         Active      1\n",
       "99997  1/1/2024 0:02         Active      1\n",
       "99998  1/1/2024 0:01         Active      1\n",
       "99999  1/1/2024 0:00           Idle      1\n",
       "\n",
       "[100000 rows x 3 columns]"
      ]
     },
     "execution_count": 7,
     "metadata": {},
     "output_type": "execute_result"
    }
   ],
   "source": [
    "op_mode = df[['time_stamp','operation_mode']].value_counts().reset_index()\n",
    "op_mode"
   ]
  }
 ],
 "metadata": {
  "kernelspec": {
   "display_name": "Python 3",
   "language": "python",
   "name": "python3"
  },
  "language_info": {
   "codemirror_mode": {
    "name": "ipython",
    "version": 3
   },
   "file_extension": ".py",
   "mimetype": "text/x-python",
   "name": "python",
   "nbconvert_exporter": "python",
   "pygments_lexer": "ipython3",
   "version": "3.13.3"
  }
 },
 "nbformat": 4,
 "nbformat_minor": 5
}
